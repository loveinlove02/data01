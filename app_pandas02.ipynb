{
 "cells": [
  {
   "cell_type": "markdown",
   "metadata": {},
   "source": [
    "# 2. 데이터프레임 조회"
   ]
  },
  {
   "cell_type": "markdown",
   "metadata": {},
   "source": [
    "## 2.1 인덱스 검색\n",
    "\n",
    "대괄호[] 연산자에 하나의 열을 넣어서\n",
    "조회하는 방식으로 이용하는 것이 보통의 인덱스 검색 방법이며 \n",
    "열의 이름을 하나 넣고 변수에 할당합니다. <br>\n",
    "\n",
    "데이터 프레임에서 일반적인 인덱스 검색을 하면 여러 열 중에서 하나의 열만 처리합니다. <br>\n",
    "이 열은 시리즈의 인스턴스 정보를 담고 있습니다."
   ]
  },
  {
   "cell_type": "code",
   "execution_count": 1,
   "metadata": {},
   "outputs": [
    {
     "data": {
      "text/html": [
       "<div>\n",
       "<style scoped>\n",
       "    .dataframe tbody tr th:only-of-type {\n",
       "        vertical-align: middle;\n",
       "    }\n",
       "\n",
       "    .dataframe tbody tr th {\n",
       "        vertical-align: top;\n",
       "    }\n",
       "\n",
       "    .dataframe thead th {\n",
       "        text-align: right;\n",
       "    }\n",
       "</style>\n",
       "<table border=\"1\" class=\"dataframe\">\n",
       "  <thead>\n",
       "    <tr style=\"text-align: right;\">\n",
       "      <th></th>\n",
       "      <th>국어</th>\n",
       "      <th>영어</th>\n",
       "      <th>수학</th>\n",
       "      <th>과학</th>\n",
       "    </tr>\n",
       "  </thead>\n",
       "  <tbody>\n",
       "    <tr>\n",
       "      <th>홍길동</th>\n",
       "      <td>95</td>\n",
       "      <td>87</td>\n",
       "      <td>85</td>\n",
       "      <td>98</td>\n",
       "    </tr>\n",
       "    <tr>\n",
       "      <th>김철수</th>\n",
       "      <td>98</td>\n",
       "      <td>55</td>\n",
       "      <td>98</td>\n",
       "      <td>50</td>\n",
       "    </tr>\n",
       "    <tr>\n",
       "      <th>이영희</th>\n",
       "      <td>98</td>\n",
       "      <td>96</td>\n",
       "      <td>88</td>\n",
       "      <td>88</td>\n",
       "    </tr>\n",
       "    <tr>\n",
       "      <th>김민지</th>\n",
       "      <td>85</td>\n",
       "      <td>89</td>\n",
       "      <td>25</td>\n",
       "      <td>85</td>\n",
       "    </tr>\n",
       "    <tr>\n",
       "      <th>조윤정</th>\n",
       "      <td>65</td>\n",
       "      <td>92</td>\n",
       "      <td>89</td>\n",
       "      <td>95</td>\n",
       "    </tr>\n",
       "  </tbody>\n",
       "</table>\n",
       "</div>"
      ],
      "text/plain": [
       "     국어  영어  수학  과학\n",
       "홍길동  95  87  85  98\n",
       "김철수  98  55  98  50\n",
       "이영희  98  96  88  88\n",
       "김민지  85  89  25  85\n",
       "조윤정  65  92  89  95"
      ]
     },
     "execution_count": 1,
     "metadata": {},
     "output_type": "execute_result"
    }
   ],
   "source": [
    "import pandas as pd\n",
    "\n",
    "df = pd.DataFrame(\n",
    "    {\n",
    "\t\t'국어': [95, 98, 98, 85, 65],\n",
    "\t\t'영어': [87, 55, 96, 89, 92],\n",
    "\t\t'수학': [85, 98, 88, 25, 89],\n",
    "\t\t'과학': [98, 50, 88, 85, 95]\n",
    "    },\n",
    "    index=['홍길동', '김철수', '이영희' , '김민지', '조윤정']\n",
    ")\n",
    "\n",
    "df"
   ]
  },
  {
   "cell_type": "markdown",
   "metadata": {},
   "source": [
    "### 데이터 프레임에서 특정 열 검색 1 (대괄호 []를 이용하여 검색하기)"
   ]
  },
  {
   "cell_type": "code",
   "execution_count": 2,
   "metadata": {},
   "outputs": [],
   "source": [
    "import pandas as pd\n",
    "\n",
    "df = pd.DataFrame(\n",
    "    {\n",
    "\t\t'국어': [95, 98, 98, 85, 65],\n",
    "\t\t'영어': [87, 55, 96, 89, 92],\n",
    "\t\t'수학': [85, 98, 88, 25, 89],\n",
    "\t\t'과학': [98, 50, 88, 85, 95]\n",
    "    },\n",
    "    index=['홍길동', '김철수', '이영희' , '김민지', '조윤정']\n",
    ")"
   ]
  },
  {
   "cell_type": "code",
   "execution_count": 3,
   "metadata": {},
   "outputs": [
    {
     "data": {
      "text/html": [
       "<div>\n",
       "<style scoped>\n",
       "    .dataframe tbody tr th:only-of-type {\n",
       "        vertical-align: middle;\n",
       "    }\n",
       "\n",
       "    .dataframe tbody tr th {\n",
       "        vertical-align: top;\n",
       "    }\n",
       "\n",
       "    .dataframe thead th {\n",
       "        text-align: right;\n",
       "    }\n",
       "</style>\n",
       "<table border=\"1\" class=\"dataframe\">\n",
       "  <thead>\n",
       "    <tr style=\"text-align: right;\">\n",
       "      <th></th>\n",
       "      <th>국어</th>\n",
       "      <th>영어</th>\n",
       "      <th>수학</th>\n",
       "      <th>과학</th>\n",
       "    </tr>\n",
       "  </thead>\n",
       "  <tbody>\n",
       "    <tr>\n",
       "      <th>홍길동</th>\n",
       "      <td>95</td>\n",
       "      <td>87</td>\n",
       "      <td>85</td>\n",
       "      <td>98</td>\n",
       "    </tr>\n",
       "    <tr>\n",
       "      <th>김철수</th>\n",
       "      <td>98</td>\n",
       "      <td>55</td>\n",
       "      <td>98</td>\n",
       "      <td>50</td>\n",
       "    </tr>\n",
       "    <tr>\n",
       "      <th>이영희</th>\n",
       "      <td>98</td>\n",
       "      <td>96</td>\n",
       "      <td>88</td>\n",
       "      <td>88</td>\n",
       "    </tr>\n",
       "    <tr>\n",
       "      <th>김민지</th>\n",
       "      <td>85</td>\n",
       "      <td>89</td>\n",
       "      <td>25</td>\n",
       "      <td>85</td>\n",
       "    </tr>\n",
       "    <tr>\n",
       "      <th>조윤정</th>\n",
       "      <td>65</td>\n",
       "      <td>92</td>\n",
       "      <td>89</td>\n",
       "      <td>95</td>\n",
       "    </tr>\n",
       "  </tbody>\n",
       "</table>\n",
       "</div>"
      ],
      "text/plain": [
       "     국어  영어  수학  과학\n",
       "홍길동  95  87  85  98\n",
       "김철수  98  55  98  50\n",
       "이영희  98  96  88  88\n",
       "김민지  85  89  25  85\n",
       "조윤정  65  92  89  95"
      ]
     },
     "execution_count": 3,
     "metadata": {},
     "output_type": "execute_result"
    }
   ],
   "source": [
    "df"
   ]
  },
  {
   "cell_type": "markdown",
   "metadata": {},
   "source": [
    "### 데이터 프레임에서 특정 열 검색 2 (대괄호 []를 이용하여 슬라이싱 검색하기)"
   ]
  },
  {
   "cell_type": "code",
   "execution_count": 4,
   "metadata": {},
   "outputs": [
    {
     "name": "stdout",
     "output_type": "stream",
     "text": [
      "     국어  영어  수학  과학\n",
      "홍길동  95  87  85  98\n",
      "김철수  98  55  98  50\n",
      "이영희  98  96  88  88\n",
      "김민지  85  89  25  85\n",
      "조윤정  65  92  89  95\n",
      "\n",
      "홍길동    87\n",
      "김철수    55\n",
      "이영희    96\n",
      "김민지    89\n",
      "조윤정    92\n",
      "Name: 영어, dtype: int64\n",
      "\n",
      "김철수    55\n",
      "이영희    96\n",
      "Name: 영어, dtype: int64\n"
     ]
    }
   ],
   "source": [
    "import pandas as pd\n",
    "\n",
    "df = pd.DataFrame(\n",
    "    {\n",
    "    '국어': [95, 98, 98, 85, 65],\n",
    "    '영어': [87, 55, 96, 89, 92],\n",
    "    '수학': [85, 98, 88, 25, 89],\n",
    "    '과학': [98, 50, 88, 85, 95]\n",
    "    },\n",
    "    index=['홍길동', '김철수', '이영희' , '김민지', '조윤정']\n",
    ")\n",
    "\n",
    "print(df)\n",
    "print()\n",
    "\n",
    "# 영어열의 데이터를 가져온다. 시리즈\n",
    "df_ser = df['영어']\n",
    "print(df_ser)\n",
    "print()\n",
    "\n",
    "# 영어 열(시리즈)의 1행에서 3행 전까지 출력(1~2행) \n",
    "print(df_ser[1:3])"
   ]
  },
  {
   "cell_type": "markdown",
   "metadata": {},
   "source": [
    "### 데이터 프레임에서 특정 열 검색 3 (원하는 열 만 가져오기)"
   ]
  },
  {
   "cell_type": "code",
   "execution_count": 5,
   "metadata": {},
   "outputs": [
    {
     "name": "stdout",
     "output_type": "stream",
     "text": [
      "     국어  영어  수학  과학\n",
      "홍길동  95  87  85  98\n",
      "김철수  98  55  98  50\n",
      "이영희  98  96  88  88\n",
      "김민지  85  89  25  85\n",
      "조윤정  65  92  89  95\n",
      "\n",
      "     국어  영어\n",
      "홍길동  95  87\n",
      "김철수  98  55\n",
      "이영희  98  96\n",
      "김민지  85  89\n",
      "조윤정  65  92\n"
     ]
    }
   ],
   "source": [
    "import pandas as pd\n",
    "\n",
    "df = pd.DataFrame(\n",
    "    {\n",
    "\t\t'국어': [95, 98, 98, 85, 65],\n",
    "\t\t'영어': [87, 55, 96, 89, 92],\n",
    "\t\t'수학': [85, 98, 88, 25, 89],\n",
    "\t\t'과학': [98, 50, 88, 85, 95]\n",
    "    },\n",
    "    index=['홍길동', '김철수', '이영희' , '김민지', '조윤정']\n",
    ")\n",
    "\n",
    "print(df)\n",
    "print()\n",
    "\n",
    "# 국어, 영어 열을 가져온다.\n",
    "print(df[['국어', '영어']])"
   ]
  },
  {
   "cell_type": "markdown",
   "metadata": {},
   "source": [
    "### 데이터프레임에서 원하는 행 검색 (슬라이싱)"
   ]
  },
  {
   "cell_type": "code",
   "execution_count": 6,
   "metadata": {},
   "outputs": [
    {
     "data": {
      "text/html": [
       "<div>\n",
       "<style scoped>\n",
       "    .dataframe tbody tr th:only-of-type {\n",
       "        vertical-align: middle;\n",
       "    }\n",
       "\n",
       "    .dataframe tbody tr th {\n",
       "        vertical-align: top;\n",
       "    }\n",
       "\n",
       "    .dataframe thead th {\n",
       "        text-align: right;\n",
       "    }\n",
       "</style>\n",
       "<table border=\"1\" class=\"dataframe\">\n",
       "  <thead>\n",
       "    <tr style=\"text-align: right;\">\n",
       "      <th></th>\n",
       "      <th>국어</th>\n",
       "      <th>영어</th>\n",
       "      <th>수학</th>\n",
       "      <th>과학</th>\n",
       "    </tr>\n",
       "  </thead>\n",
       "  <tbody>\n",
       "    <tr>\n",
       "      <th>김철수</th>\n",
       "      <td>98</td>\n",
       "      <td>55</td>\n",
       "      <td>98</td>\n",
       "      <td>50</td>\n",
       "    </tr>\n",
       "    <tr>\n",
       "      <th>이영희</th>\n",
       "      <td>98</td>\n",
       "      <td>96</td>\n",
       "      <td>88</td>\n",
       "      <td>88</td>\n",
       "    </tr>\n",
       "  </tbody>\n",
       "</table>\n",
       "</div>"
      ],
      "text/plain": [
       "     국어  영어  수학  과학\n",
       "김철수  98  55  98  50\n",
       "이영희  98  96  88  88"
      ]
     },
     "execution_count": 6,
     "metadata": {},
     "output_type": "execute_result"
    }
   ],
   "source": [
    "import pandas as pd\n",
    "\n",
    "df = pd.DataFrame(\n",
    "    {\n",
    "\t\t'국어': [95, 98, 98, 85, 65],\n",
    "\t\t'영어': [87, 55, 96, 89, 92],\n",
    "\t\t'수학': [85, 98, 88, 25, 89],\n",
    "\t\t'과학': [98, 50, 88, 85, 95]\n",
    "    },\n",
    "    index=['홍길동', '김철수', '이영희' , '김민지', '조윤정']\n",
    ")\n",
    "\n",
    "# 데이터프레임의 1행에서 3행 전 까지(1행에서 2행까지)\n",
    "df[1:3]"
   ]
  },
  {
   "cell_type": "markdown",
   "metadata": {},
   "source": [
    "### 데이터프레임에 열 이름을 넣어서 조회"
   ]
  },
  {
   "cell_type": "code",
   "execution_count": 7,
   "metadata": {},
   "outputs": [
    {
     "name": "stdout",
     "output_type": "stream",
     "text": [
      "홍길동    95\n",
      "김철수    98\n",
      "이영희    98\n",
      "김민지    85\n",
      "조윤정    65\n",
      "Name: 국어, dtype: int64\n",
      "\n",
      "홍길동    87\n",
      "김철수    55\n",
      "이영희    96\n",
      "김민지    89\n",
      "조윤정    92\n",
      "Name: 영어, dtype: int64\n"
     ]
    }
   ],
   "source": [
    "import pandas as pd\n",
    "\n",
    "df = pd.DataFrame(\n",
    "    {\n",
    "\t\t'국어': [95, 98, 98, 85, 65],\n",
    "\t\t'영어': [87, 55, 96, 89, 92],\n",
    "\t\t'수학': [85, 98, 88, 25, 89],\n",
    "\t\t'과학': [98, 50, 88, 85, 95]\n",
    "    },\n",
    "    index=['홍길동', '김철수', '이영희' , '김민지', '조윤정']\n",
    ")\n",
    "\n",
    "print(df['국어'])\n",
    "print()\n",
    "\n",
    "print(df['영어'])"
   ]
  },
  {
   "cell_type": "markdown",
   "metadata": {},
   "source": [
    "### 데이터프레임에 열 이름을 넣어서 조회 (2개의 열을 조회)"
   ]
  },
  {
   "cell_type": "code",
   "execution_count": 8,
   "metadata": {},
   "outputs": [
    {
     "data": {
      "text/html": [
       "<div>\n",
       "<style scoped>\n",
       "    .dataframe tbody tr th:only-of-type {\n",
       "        vertical-align: middle;\n",
       "    }\n",
       "\n",
       "    .dataframe tbody tr th {\n",
       "        vertical-align: top;\n",
       "    }\n",
       "\n",
       "    .dataframe thead th {\n",
       "        text-align: right;\n",
       "    }\n",
       "</style>\n",
       "<table border=\"1\" class=\"dataframe\">\n",
       "  <thead>\n",
       "    <tr style=\"text-align: right;\">\n",
       "      <th></th>\n",
       "      <th>영어</th>\n",
       "      <th>수학</th>\n",
       "    </tr>\n",
       "  </thead>\n",
       "  <tbody>\n",
       "    <tr>\n",
       "      <th>0</th>\n",
       "      <td>87</td>\n",
       "      <td>85</td>\n",
       "    </tr>\n",
       "    <tr>\n",
       "      <th>1</th>\n",
       "      <td>55</td>\n",
       "      <td>98</td>\n",
       "    </tr>\n",
       "    <tr>\n",
       "      <th>2</th>\n",
       "      <td>96</td>\n",
       "      <td>88</td>\n",
       "    </tr>\n",
       "    <tr>\n",
       "      <th>3</th>\n",
       "      <td>89</td>\n",
       "      <td>25</td>\n",
       "    </tr>\n",
       "    <tr>\n",
       "      <th>4</th>\n",
       "      <td>92</td>\n",
       "      <td>89</td>\n",
       "    </tr>\n",
       "  </tbody>\n",
       "</table>\n",
       "</div>"
      ],
      "text/plain": [
       "   영어  수학\n",
       "0  87  85\n",
       "1  55  98\n",
       "2  96  88\n",
       "3  89  25\n",
       "4  92  89"
      ]
     },
     "execution_count": 8,
     "metadata": {},
     "output_type": "execute_result"
    }
   ],
   "source": [
    "import pandas as pd\n",
    "\n",
    "df = pd.DataFrame(\n",
    "    {\n",
    "\t\t'국어': [95, 98, 98, 85, 65],\n",
    "\t\t'영어': [87, 55, 96, 89, 92],\n",
    "\t\t'수학': [85, 98, 88, 25, 89],\n",
    "\t\t'과학': [98, 50, 88, 85, 95]\n",
    "    }\n",
    ")\n",
    "\n",
    "df[['영어','수학']]"
   ]
  },
  {
   "cell_type": "markdown",
   "metadata": {},
   "source": [
    "### 데이터프레임에 열 인덱스를 넣어서 조회"
   ]
  },
  {
   "cell_type": "code",
   "execution_count": 9,
   "metadata": {},
   "outputs": [
    {
     "name": "stdout",
     "output_type": "stream",
     "text": [
      "Index(['국어', '영어', '수학', '과학'], dtype='object')\n",
      "국어\n",
      "0    95\n",
      "1    98\n",
      "2    98\n",
      "3    85\n",
      "4    65\n",
      "Name: 국어, dtype: int64\n",
      "['국어' '영어' '수학' '과학']\n"
     ]
    }
   ],
   "source": [
    "import pandas as pd\n",
    "\n",
    "df = pd.DataFrame(\n",
    "    {\n",
    "\t\t'국어': [95, 98, 98, 85, 65],\n",
    "\t\t'영어': [87, 55, 96, 89, 92],\n",
    "\t\t'수학': [85, 98, 88, 25, 89],\n",
    "\t\t'과학': [98, 50, 88, 85, 95]\n",
    "    }\n",
    ")\n",
    "\n",
    "print(df.columns)      \t # Index(['국어', '영어', '수학', '과학'], dtype='object')\n",
    "print(df.columns[0])     # 국어\n",
    "print(df[df.columns[0]]) \n",
    "print(df.columns.values)"
   ]
  },
  {
   "cell_type": "markdown",
   "metadata": {},
   "source": []
  },
  {
   "cell_type": "markdown",
   "metadata": {},
   "source": [
    "### 슬라이싱"
   ]
  },
  {
   "cell_type": "code",
   "execution_count": 10,
   "metadata": {},
   "outputs": [
    {
     "name": "stdout",
     "output_type": "stream",
     "text": [
      "     국어  영어  수학  과학\n",
      "홍길동  95  87  85  98\n",
      "김철수  98  55  98  50\n",
      "이영희  98  96  88  88\n",
      "김민지  85  89  25  85\n",
      "조윤정  65  92  89  95\n",
      "\n"
     ]
    },
    {
     "data": {
      "text/plain": [
       "홍길동    87\n",
       "김철수    55\n",
       "이영희    96\n",
       "Name: 영어, dtype: int64"
      ]
     },
     "execution_count": 10,
     "metadata": {},
     "output_type": "execute_result"
    }
   ],
   "source": [
    "import pandas as pd\n",
    "\n",
    "df = pd.DataFrame(\n",
    "    {\n",
    "\t\t'국어': [95, 98, 98, 85, 65],\n",
    "\t\t'영어': [87, 55, 96, 89, 92],\n",
    "\t\t'수학': [85, 98, 88, 25, 89],\n",
    "\t\t'과학': [98, 50, 88, 85, 95]\n",
    "    },\n",
    "    index=['홍길동', '김철수', '이영희' , '김민지', '조윤정']\n",
    ")\n",
    "\n",
    "print(df)\n",
    "print()\n",
    "\n",
    "# 영어 열 선택. 행은 0행에서 3행전까지 (0행 ~ 2행까지)   \n",
    "df['영어'][0:3]"
   ]
  },
  {
   "cell_type": "markdown",
   "metadata": {},
   "source": [
    "### 슬라이싱"
   ]
  },
  {
   "cell_type": "code",
   "execution_count": 11,
   "metadata": {},
   "outputs": [
    {
     "name": "stdout",
     "output_type": "stream",
     "text": [
      "     국어  영어  수학  과학\n",
      "홍길동  95  87  85  98\n",
      "김철수  98  55  98  50\n",
      "이영희  98  96  88  88\n",
      "김민지  85  89  25  85\n",
      "조윤정  65  92  89  95\n",
      "\n"
     ]
    },
    {
     "data": {
      "text/html": [
       "<div>\n",
       "<style scoped>\n",
       "    .dataframe tbody tr th:only-of-type {\n",
       "        vertical-align: middle;\n",
       "    }\n",
       "\n",
       "    .dataframe tbody tr th {\n",
       "        vertical-align: top;\n",
       "    }\n",
       "\n",
       "    .dataframe thead th {\n",
       "        text-align: right;\n",
       "    }\n",
       "</style>\n",
       "<table border=\"1\" class=\"dataframe\">\n",
       "  <thead>\n",
       "    <tr style=\"text-align: right;\">\n",
       "      <th></th>\n",
       "      <th>국어</th>\n",
       "      <th>수학</th>\n",
       "    </tr>\n",
       "  </thead>\n",
       "  <tbody>\n",
       "    <tr>\n",
       "      <th>홍길동</th>\n",
       "      <td>95</td>\n",
       "      <td>85</td>\n",
       "    </tr>\n",
       "    <tr>\n",
       "      <th>김철수</th>\n",
       "      <td>98</td>\n",
       "      <td>98</td>\n",
       "    </tr>\n",
       "    <tr>\n",
       "      <th>이영희</th>\n",
       "      <td>98</td>\n",
       "      <td>88</td>\n",
       "    </tr>\n",
       "  </tbody>\n",
       "</table>\n",
       "</div>"
      ],
      "text/plain": [
       "     국어  수학\n",
       "홍길동  95  85\n",
       "김철수  98  98\n",
       "이영희  98  88"
      ]
     },
     "execution_count": 11,
     "metadata": {},
     "output_type": "execute_result"
    }
   ],
   "source": [
    "import pandas as pd\n",
    "\n",
    "df = pd.DataFrame(\n",
    "    {\n",
    "\t\t'국어': [95, 98, 98, 85, 65],\n",
    "\t\t'영어': [87, 55, 96, 89, 92],\n",
    "\t\t'수학': [85, 98, 88, 25, 89],\n",
    "\t\t'과학': [98, 50, 88, 85, 95]\n",
    "    },\n",
    "    index=['홍길동', '김철수', '이영희' , '김민지', '조윤정']\n",
    ")\n",
    "\n",
    "\n",
    "print(df)\n",
    "print()\n",
    "\n",
    "# 국어, 수학 열 선택. 행은 0행에서 3행전까지 (0행 ~ 2행까지)   \n",
    "df[['국어', '수학']][0:3]"
   ]
  },
  {
   "cell_type": "markdown",
   "metadata": {},
   "source": [
    "### 슬라이싱"
   ]
  },
  {
   "cell_type": "code",
   "execution_count": 12,
   "metadata": {},
   "outputs": [
    {
     "name": "stdout",
     "output_type": "stream",
     "text": [
      "     국어  영어  수학  과학\n",
      "홍길동  95  87  85  98\n",
      "김철수  98  55  98  50\n",
      "이영희  98  96  88  88\n",
      "김민지  85  89  25  85\n",
      "조윤정  65  92  89  95\n",
      "\n"
     ]
    },
    {
     "data": {
      "text/html": [
       "<div>\n",
       "<style scoped>\n",
       "    .dataframe tbody tr th:only-of-type {\n",
       "        vertical-align: middle;\n",
       "    }\n",
       "\n",
       "    .dataframe tbody tr th {\n",
       "        vertical-align: top;\n",
       "    }\n",
       "\n",
       "    .dataframe thead th {\n",
       "        text-align: right;\n",
       "    }\n",
       "</style>\n",
       "<table border=\"1\" class=\"dataframe\">\n",
       "  <thead>\n",
       "    <tr style=\"text-align: right;\">\n",
       "      <th></th>\n",
       "      <th>국어</th>\n",
       "      <th>영어</th>\n",
       "      <th>수학</th>\n",
       "      <th>과학</th>\n",
       "    </tr>\n",
       "  </thead>\n",
       "  <tbody>\n",
       "    <tr>\n",
       "      <th>김민지</th>\n",
       "      <td>85</td>\n",
       "      <td>89</td>\n",
       "      <td>25</td>\n",
       "      <td>85</td>\n",
       "    </tr>\n",
       "    <tr>\n",
       "      <th>조윤정</th>\n",
       "      <td>65</td>\n",
       "      <td>92</td>\n",
       "      <td>89</td>\n",
       "      <td>95</td>\n",
       "    </tr>\n",
       "  </tbody>\n",
       "</table>\n",
       "</div>"
      ],
      "text/plain": [
       "     국어  영어  수학  과학\n",
       "김민지  85  89  25  85\n",
       "조윤정  65  92  89  95"
      ]
     },
     "execution_count": 12,
     "metadata": {},
     "output_type": "execute_result"
    }
   ],
   "source": [
    "import pandas as pd\n",
    "\n",
    "df = pd.DataFrame(\n",
    "    {\n",
    "\t\t'국어': [95, 98, 98, 85, 65],\n",
    "\t\t'영어': [87, 55, 96, 89, 92],\n",
    "\t\t'수학': [85, 98, 88, 25, 89],\n",
    "\t\t'과학': [98, 50, 88, 85, 95]\n",
    "    },\n",
    "    index=['홍길동', '김철수', '이영희' , '김민지', '조윤정']\n",
    ")\n",
    "\n",
    "\n",
    "print(df)\n",
    "print()\n",
    "\n",
    "# 3행에서 끝까지   \n",
    "df[3:]"
   ]
  },
  {
   "cell_type": "markdown",
   "metadata": {},
   "source": [
    "## 2.2 loc\n",
    "\n",
    "### df.loc['행 레이블 이름']에 행 이름을 인자로 넣으면 해당하는 행을 시리즈로 반환합니다."
   ]
  },
  {
   "cell_type": "markdown",
   "metadata": {},
   "source": [
    "### loc 예제 1 – 행 이름으로 가져오기"
   ]
  },
  {
   "cell_type": "code",
   "execution_count": 13,
   "metadata": {},
   "outputs": [
    {
     "name": "stdout",
     "output_type": "stream",
     "text": [
      "     국어  영어  수학  과학\n",
      "홍길동  95  87  85  98\n",
      "김철수  98  55  98  50\n",
      "이영희  98  96  88  88\n",
      "김민지  85  89  25  85\n",
      "조윤정  65  92  89  95\n",
      "\n"
     ]
    },
    {
     "data": {
      "text/plain": [
       "국어    95\n",
       "영어    87\n",
       "수학    85\n",
       "과학    98\n",
       "Name: 홍길동, dtype: int64"
      ]
     },
     "execution_count": 13,
     "metadata": {},
     "output_type": "execute_result"
    }
   ],
   "source": [
    "import pandas as pd\n",
    "\n",
    "df = pd.DataFrame(\n",
    "    {\n",
    "\t\t'국어': [95, 98, 98, 85, 65],\n",
    "\t\t'영어': [87, 55, 96, 89, 92],\n",
    "\t\t'수학': [85, 98, 88, 25, 89],\n",
    "\t\t'과학': [98, 50, 88, 85, 95]\n",
    "    },\n",
    "    index=['홍길동', '김철수', '이영희' , '김민지', '조윤정']\n",
    ")\n",
    "\n",
    "print(df)\n",
    "print()\n",
    "\n",
    "# 행 인덱스 이름으로 데이터 가져오기\n",
    "# 행 인덱스 이름 홍길동을 인자로 넣어서\n",
    "# 홍길동에 해당하는 행을 시리즈로 가져온다.\n",
    "row = df.loc['홍길동']\n",
    "row"
   ]
  },
  {
   "cell_type": "markdown",
   "metadata": {},
   "source": [
    "### loc 예제 2 – 행 인덱스 이름으로 가져오기 (특정 행 인덱스 이름에서 특정 행 인덱스 이름까지 데이터 가져오기. 슬라이싱)"
   ]
  },
  {
   "cell_type": "code",
   "execution_count": 14,
   "metadata": {},
   "outputs": [
    {
     "name": "stdout",
     "output_type": "stream",
     "text": [
      "     국어  영어  수학  과학\n",
      "홍길동  95  87  85  98\n",
      "김철수  98  55  98  50\n",
      "이영희  98  96  88  88\n",
      "김민지  85  89  25  85\n",
      "조윤정  65  92  89  95\n",
      "\n"
     ]
    },
    {
     "data": {
      "text/html": [
       "<div>\n",
       "<style scoped>\n",
       "    .dataframe tbody tr th:only-of-type {\n",
       "        vertical-align: middle;\n",
       "    }\n",
       "\n",
       "    .dataframe tbody tr th {\n",
       "        vertical-align: top;\n",
       "    }\n",
       "\n",
       "    .dataframe thead th {\n",
       "        text-align: right;\n",
       "    }\n",
       "</style>\n",
       "<table border=\"1\" class=\"dataframe\">\n",
       "  <thead>\n",
       "    <tr style=\"text-align: right;\">\n",
       "      <th></th>\n",
       "      <th>국어</th>\n",
       "      <th>영어</th>\n",
       "      <th>수학</th>\n",
       "      <th>과학</th>\n",
       "    </tr>\n",
       "  </thead>\n",
       "  <tbody>\n",
       "    <tr>\n",
       "      <th>김철수</th>\n",
       "      <td>98</td>\n",
       "      <td>55</td>\n",
       "      <td>98</td>\n",
       "      <td>50</td>\n",
       "    </tr>\n",
       "    <tr>\n",
       "      <th>이영희</th>\n",
       "      <td>98</td>\n",
       "      <td>96</td>\n",
       "      <td>88</td>\n",
       "      <td>88</td>\n",
       "    </tr>\n",
       "    <tr>\n",
       "      <th>김민지</th>\n",
       "      <td>85</td>\n",
       "      <td>89</td>\n",
       "      <td>25</td>\n",
       "      <td>85</td>\n",
       "    </tr>\n",
       "  </tbody>\n",
       "</table>\n",
       "</div>"
      ],
      "text/plain": [
       "     국어  영어  수학  과학\n",
       "김철수  98  55  98  50\n",
       "이영희  98  96  88  88\n",
       "김민지  85  89  25  85"
      ]
     },
     "execution_count": 14,
     "metadata": {},
     "output_type": "execute_result"
    }
   ],
   "source": [
    "import pandas as pd\n",
    "\n",
    "df = pd.DataFrame(\n",
    "    {\n",
    "\t\t'국어': [95, 98, 98, 85, 65],\n",
    "\t\t'영어': [87, 55, 96, 89, 92],\n",
    "\t\t'수학': [85, 98, 88, 25, 89],\n",
    "\t\t'과학': [98, 50, 88, 85, 95]\n",
    "    },\n",
    "    index=['홍길동', '김철수', '이영희' , '김민지', '조윤정']\n",
    ")\n",
    "\n",
    "print(df)\n",
    "print()\n",
    "\n",
    "# 김철수(행 인덱스 이름)에서 김민지(행 인덱스 이름)까지 데이터 가져오기\n",
    "# 김철수에서 김민지(포함)까지 해당하는 모든 행을 시리즈로 가져온다. \n",
    "row = df.loc['김철수':'김민지']\n",
    "row"
   ]
  },
  {
   "cell_type": "markdown",
   "metadata": {},
   "source": [
    "### loc 예제 3 – 원하는 행 인덱스 이름만 선택해서 가져오기"
   ]
  },
  {
   "cell_type": "code",
   "execution_count": 15,
   "metadata": {},
   "outputs": [
    {
     "name": "stdout",
     "output_type": "stream",
     "text": [
      "     국어  영어  수학  과학\n",
      "홍길동  95  87  85  98\n",
      "김철수  98  55  98  50\n",
      "이영희  98  96  88  88\n",
      "김민지  85  89  25  85\n",
      "조윤정  65  92  89  95\n",
      "\n"
     ]
    },
    {
     "data": {
      "text/html": [
       "<div>\n",
       "<style scoped>\n",
       "    .dataframe tbody tr th:only-of-type {\n",
       "        vertical-align: middle;\n",
       "    }\n",
       "\n",
       "    .dataframe tbody tr th {\n",
       "        vertical-align: top;\n",
       "    }\n",
       "\n",
       "    .dataframe thead th {\n",
       "        text-align: right;\n",
       "    }\n",
       "</style>\n",
       "<table border=\"1\" class=\"dataframe\">\n",
       "  <thead>\n",
       "    <tr style=\"text-align: right;\">\n",
       "      <th></th>\n",
       "      <th>국어</th>\n",
       "      <th>영어</th>\n",
       "      <th>수학</th>\n",
       "      <th>과학</th>\n",
       "    </tr>\n",
       "  </thead>\n",
       "  <tbody>\n",
       "    <tr>\n",
       "      <th>김철수</th>\n",
       "      <td>98</td>\n",
       "      <td>55</td>\n",
       "      <td>98</td>\n",
       "      <td>50</td>\n",
       "    </tr>\n",
       "    <tr>\n",
       "      <th>김민지</th>\n",
       "      <td>85</td>\n",
       "      <td>89</td>\n",
       "      <td>25</td>\n",
       "      <td>85</td>\n",
       "    </tr>\n",
       "  </tbody>\n",
       "</table>\n",
       "</div>"
      ],
      "text/plain": [
       "     국어  영어  수학  과학\n",
       "김철수  98  55  98  50\n",
       "김민지  85  89  25  85"
      ]
     },
     "execution_count": 15,
     "metadata": {},
     "output_type": "execute_result"
    }
   ],
   "source": [
    "import pandas as pd\n",
    "\n",
    "df = pd.DataFrame(\n",
    "    {\n",
    "\t\t'국어': [95, 98, 98, 85, 65],\n",
    "\t\t'영어': [87, 55, 96, 89, 92],\n",
    "\t\t'수학': [85, 98, 88, 25, 89],\n",
    "\t\t'과학': [98, 50, 88, 85, 95]\n",
    "    },\n",
    "    index=['홍길동', '김철수', '이영희' , '김민지', '조윤정']\n",
    ")\n",
    "\n",
    "print(df)\n",
    "print()\n",
    "\n",
    "# 김철수(행 인덱스 이름)행과 김민지(행 인덱스 이름)행만 선택해서 데이터 가져오기\n",
    "# 김철수, 김민지 행 만 골라서 데이터프레임으로 가져온다\n",
    "row = df.loc[['김철수','김민지']]\n",
    "row"
   ]
  },
  {
   "cell_type": "markdown",
   "metadata": {},
   "source": [
    "### loc 예제 4 – 행, 열 이름 선택"
   ]
  },
  {
   "cell_type": "code",
   "execution_count": 16,
   "metadata": {},
   "outputs": [
    {
     "name": "stdout",
     "output_type": "stream",
     "text": [
      "     국어  영어  수학  과학\n",
      "홍길동  95  87  85  98\n",
      "김철수  98  55  98  50\n",
      "이영희  98  96  88  88\n",
      "김민지  85  89  25  85\n",
      "조윤정  65  92  89  95\n",
      "\n"
     ]
    },
    {
     "data": {
      "text/plain": [
       "np.int64(55)"
      ]
     },
     "execution_count": 16,
     "metadata": {},
     "output_type": "execute_result"
    }
   ],
   "source": [
    "import pandas as pd\n",
    "\n",
    "df = pd.DataFrame(\n",
    "    {\n",
    "\t\t'국어': [95, 98, 98, 85, 65],\n",
    "\t\t'영어': [87, 55, 96, 89, 92],\n",
    "\t\t'수학': [85, 98, 88, 25, 89],\n",
    "\t\t'과학': [98, 50, 88, 85, 95]\n",
    "    },\n",
    "    index=['홍길동', '김철수', '이영희' , '김민지', '조윤정']\n",
    ")\n",
    "\n",
    "print(df)\n",
    "print()\n",
    "\n",
    "# 김철수(행 인덱스 이름), 영어(열 인덱스 이름) 선택해서 데이터 가져오기\n",
    "# 행 인덱스 이름 김철수 이고, 열 인덱스 이름이 영어인 위치의 데이터를 가져온다.\n",
    "row = df.loc['김철수','영어']\n",
    "row"
   ]
  },
  {
   "cell_type": "markdown",
   "metadata": {},
   "source": [
    "### loc 예제 5 - 모든 범위의 행, 모든 범위의 열 가져오기 "
   ]
  },
  {
   "cell_type": "code",
   "execution_count": 17,
   "metadata": {},
   "outputs": [
    {
     "name": "stdout",
     "output_type": "stream",
     "text": [
      "     국어  영어  수학  과학\n",
      "홍길동  95  87  85  98\n",
      "김철수  98  55  98  50\n",
      "이영희  98  96  88  88\n",
      "김민지  85  89  25  85\n",
      "조윤정  65  92  89  95\n",
      "\n"
     ]
    },
    {
     "data": {
      "text/html": [
       "<div>\n",
       "<style scoped>\n",
       "    .dataframe tbody tr th:only-of-type {\n",
       "        vertical-align: middle;\n",
       "    }\n",
       "\n",
       "    .dataframe tbody tr th {\n",
       "        vertical-align: top;\n",
       "    }\n",
       "\n",
       "    .dataframe thead th {\n",
       "        text-align: right;\n",
       "    }\n",
       "</style>\n",
       "<table border=\"1\" class=\"dataframe\">\n",
       "  <thead>\n",
       "    <tr style=\"text-align: right;\">\n",
       "      <th></th>\n",
       "      <th>국어</th>\n",
       "      <th>영어</th>\n",
       "      <th>수학</th>\n",
       "      <th>과학</th>\n",
       "    </tr>\n",
       "  </thead>\n",
       "  <tbody>\n",
       "    <tr>\n",
       "      <th>홍길동</th>\n",
       "      <td>95</td>\n",
       "      <td>87</td>\n",
       "      <td>85</td>\n",
       "      <td>98</td>\n",
       "    </tr>\n",
       "    <tr>\n",
       "      <th>김철수</th>\n",
       "      <td>98</td>\n",
       "      <td>55</td>\n",
       "      <td>98</td>\n",
       "      <td>50</td>\n",
       "    </tr>\n",
       "    <tr>\n",
       "      <th>이영희</th>\n",
       "      <td>98</td>\n",
       "      <td>96</td>\n",
       "      <td>88</td>\n",
       "      <td>88</td>\n",
       "    </tr>\n",
       "    <tr>\n",
       "      <th>김민지</th>\n",
       "      <td>85</td>\n",
       "      <td>89</td>\n",
       "      <td>25</td>\n",
       "      <td>85</td>\n",
       "    </tr>\n",
       "    <tr>\n",
       "      <th>조윤정</th>\n",
       "      <td>65</td>\n",
       "      <td>92</td>\n",
       "      <td>89</td>\n",
       "      <td>95</td>\n",
       "    </tr>\n",
       "  </tbody>\n",
       "</table>\n",
       "</div>"
      ],
      "text/plain": [
       "     국어  영어  수학  과학\n",
       "홍길동  95  87  85  98\n",
       "김철수  98  55  98  50\n",
       "이영희  98  96  88  88\n",
       "김민지  85  89  25  85\n",
       "조윤정  65  92  89  95"
      ]
     },
     "execution_count": 17,
     "metadata": {},
     "output_type": "execute_result"
    }
   ],
   "source": [
    "import pandas as pd\n",
    "\n",
    "df = pd.DataFrame(\n",
    "    {\n",
    "\t\t'국어': [95, 98, 98, 85, 65],\n",
    "\t\t'영어': [87, 55, 96, 89, 92],\n",
    "\t\t'수학': [85, 98, 88, 25, 89],\n",
    "\t\t'과학': [98, 50, 88, 85, 95]\n",
    "    },\n",
    "    index=['홍길동', '김철수', '이영희' , '김민지', '조윤정']\n",
    ")\n",
    "\n",
    "print(df)\n",
    "print()\n",
    "\n",
    "# 처음부터 끝까지 모든 행, 모든 열 가져오기\n",
    "row = df.loc[: , :]\n",
    "row"
   ]
  },
  {
   "cell_type": "markdown",
   "metadata": {},
   "source": [
    "### loc 예제 6 - 모든 범위의 행, 특정 범위의 열 가져오기"
   ]
  },
  {
   "cell_type": "code",
   "execution_count": 18,
   "metadata": {},
   "outputs": [
    {
     "name": "stdout",
     "output_type": "stream",
     "text": [
      "     국어  영어  수학  과학\n",
      "홍길동  95  87  85  98\n",
      "김철수  98  55  98  50\n",
      "이영희  98  96  88  88\n",
      "김민지  85  89  25  85\n",
      "조윤정  65  92  89  95\n",
      "\n"
     ]
    },
    {
     "data": {
      "text/html": [
       "<div>\n",
       "<style scoped>\n",
       "    .dataframe tbody tr th:only-of-type {\n",
       "        vertical-align: middle;\n",
       "    }\n",
       "\n",
       "    .dataframe tbody tr th {\n",
       "        vertical-align: top;\n",
       "    }\n",
       "\n",
       "    .dataframe thead th {\n",
       "        text-align: right;\n",
       "    }\n",
       "</style>\n",
       "<table border=\"1\" class=\"dataframe\">\n",
       "  <thead>\n",
       "    <tr style=\"text-align: right;\">\n",
       "      <th></th>\n",
       "      <th>국어</th>\n",
       "      <th>영어</th>\n",
       "      <th>수학</th>\n",
       "    </tr>\n",
       "  </thead>\n",
       "  <tbody>\n",
       "    <tr>\n",
       "      <th>홍길동</th>\n",
       "      <td>95</td>\n",
       "      <td>87</td>\n",
       "      <td>85</td>\n",
       "    </tr>\n",
       "    <tr>\n",
       "      <th>김철수</th>\n",
       "      <td>98</td>\n",
       "      <td>55</td>\n",
       "      <td>98</td>\n",
       "    </tr>\n",
       "    <tr>\n",
       "      <th>이영희</th>\n",
       "      <td>98</td>\n",
       "      <td>96</td>\n",
       "      <td>88</td>\n",
       "    </tr>\n",
       "    <tr>\n",
       "      <th>김민지</th>\n",
       "      <td>85</td>\n",
       "      <td>89</td>\n",
       "      <td>25</td>\n",
       "    </tr>\n",
       "    <tr>\n",
       "      <th>조윤정</th>\n",
       "      <td>65</td>\n",
       "      <td>92</td>\n",
       "      <td>89</td>\n",
       "    </tr>\n",
       "  </tbody>\n",
       "</table>\n",
       "</div>"
      ],
      "text/plain": [
       "     국어  영어  수학\n",
       "홍길동  95  87  85\n",
       "김철수  98  55  98\n",
       "이영희  98  96  88\n",
       "김민지  85  89  25\n",
       "조윤정  65  92  89"
      ]
     },
     "execution_count": 18,
     "metadata": {},
     "output_type": "execute_result"
    }
   ],
   "source": [
    "import pandas as pd\n",
    "\n",
    "df = pd.DataFrame(\n",
    "    {\n",
    "\t\t'국어': [95, 98, 98, 85, 65],\n",
    "\t\t'영어': [87, 55, 96, 89, 92],\n",
    "\t\t'수학': [85, 98, 88, 25, 89],\n",
    "\t\t'과학': [98, 50, 88, 85, 95]\n",
    "    },\n",
    "    index=['홍길동', '김철수', '이영희' , '김민지', '조윤정']\n",
    ")\n",
    "\n",
    "print(df)\n",
    "print()\n",
    "\n",
    "# 처음부터 끝까지 (모든 행), 국어에서 수학까지 (특정 열) 가져오기\n",
    "row = df.loc[: , '국어':'수학']\n",
    "row"
   ]
  },
  {
   "cell_type": "markdown",
   "metadata": {},
   "source": [
    "### loc 예제 7 - 특정 범위의 행, 모든 범위의 열 가져오기"
   ]
  },
  {
   "cell_type": "code",
   "execution_count": 19,
   "metadata": {},
   "outputs": [
    {
     "name": "stdout",
     "output_type": "stream",
     "text": [
      "     국어  영어  수학  과학\n",
      "홍길동  95  87  85  98\n",
      "김철수  98  55  98  50\n",
      "이영희  98  96  88  88\n",
      "김민지  85  89  25  85\n",
      "조윤정  65  92  89  95\n",
      "\n"
     ]
    },
    {
     "data": {
      "text/html": [
       "<div>\n",
       "<style scoped>\n",
       "    .dataframe tbody tr th:only-of-type {\n",
       "        vertical-align: middle;\n",
       "    }\n",
       "\n",
       "    .dataframe tbody tr th {\n",
       "        vertical-align: top;\n",
       "    }\n",
       "\n",
       "    .dataframe thead th {\n",
       "        text-align: right;\n",
       "    }\n",
       "</style>\n",
       "<table border=\"1\" class=\"dataframe\">\n",
       "  <thead>\n",
       "    <tr style=\"text-align: right;\">\n",
       "      <th></th>\n",
       "      <th>국어</th>\n",
       "      <th>영어</th>\n",
       "      <th>수학</th>\n",
       "      <th>과학</th>\n",
       "    </tr>\n",
       "  </thead>\n",
       "  <tbody>\n",
       "    <tr>\n",
       "      <th>이영희</th>\n",
       "      <td>98</td>\n",
       "      <td>96</td>\n",
       "      <td>88</td>\n",
       "      <td>88</td>\n",
       "    </tr>\n",
       "    <tr>\n",
       "      <th>김민지</th>\n",
       "      <td>85</td>\n",
       "      <td>89</td>\n",
       "      <td>25</td>\n",
       "      <td>85</td>\n",
       "    </tr>\n",
       "  </tbody>\n",
       "</table>\n",
       "</div>"
      ],
      "text/plain": [
       "     국어  영어  수학  과학\n",
       "이영희  98  96  88  88\n",
       "김민지  85  89  25  85"
      ]
     },
     "execution_count": 19,
     "metadata": {},
     "output_type": "execute_result"
    }
   ],
   "source": [
    "import pandas as pd\n",
    "\n",
    "df = pd.DataFrame(\n",
    "    {\n",
    "\t\t'국어': [95, 98, 98, 85, 65],\n",
    "\t\t'영어': [87, 55, 96, 89, 92],\n",
    "\t\t'수학': [85, 98, 88, 25, 89],\n",
    "\t\t'과학': [98, 50, 88, 85, 95]\n",
    "    },\n",
    "    index=['홍길동', '김철수', '이영희' , '김민지', '조윤정']\n",
    ")\n",
    "\n",
    "print(df)\n",
    "print()\n",
    "\n",
    "# 행은 이영희에서 김민지까지, 열은 모든 열 가져오기\n",
    "row = df.loc['이영희':'김민지' , :]\n",
    "row"
   ]
  },
  {
   "cell_type": "markdown",
   "metadata": {},
   "source": [
    "### loc 예제 8 특정 범위의 행, 특정 범위의 열 가져오기"
   ]
  },
  {
   "cell_type": "code",
   "execution_count": 20,
   "metadata": {},
   "outputs": [
    {
     "name": "stdout",
     "output_type": "stream",
     "text": [
      "     국어  영어  수학  과학\n",
      "홍길동  95  87  85  98\n",
      "김철수  98  55  98  50\n",
      "이영희  98  96  88  88\n",
      "김민지  85  89  25  85\n",
      "조윤정  65  92  89  95\n",
      "\n"
     ]
    },
    {
     "data": {
      "text/html": [
       "<div>\n",
       "<style scoped>\n",
       "    .dataframe tbody tr th:only-of-type {\n",
       "        vertical-align: middle;\n",
       "    }\n",
       "\n",
       "    .dataframe tbody tr th {\n",
       "        vertical-align: top;\n",
       "    }\n",
       "\n",
       "    .dataframe thead th {\n",
       "        text-align: right;\n",
       "    }\n",
       "</style>\n",
       "<table border=\"1\" class=\"dataframe\">\n",
       "  <thead>\n",
       "    <tr style=\"text-align: right;\">\n",
       "      <th></th>\n",
       "      <th>영어</th>\n",
       "      <th>수학</th>\n",
       "    </tr>\n",
       "  </thead>\n",
       "  <tbody>\n",
       "    <tr>\n",
       "      <th>이영희</th>\n",
       "      <td>96</td>\n",
       "      <td>88</td>\n",
       "    </tr>\n",
       "    <tr>\n",
       "      <th>김민지</th>\n",
       "      <td>89</td>\n",
       "      <td>25</td>\n",
       "    </tr>\n",
       "  </tbody>\n",
       "</table>\n",
       "</div>"
      ],
      "text/plain": [
       "     영어  수학\n",
       "이영희  96  88\n",
       "김민지  89  25"
      ]
     },
     "execution_count": 20,
     "metadata": {},
     "output_type": "execute_result"
    }
   ],
   "source": [
    "import pandas as pd\n",
    "\n",
    "df = pd.DataFrame(\n",
    "    {\n",
    "    '국어': [95, 98, 98, 85, 65],\n",
    "    '영어': [87, 55, 96, 89, 92],\n",
    "    '수학': [85, 98, 88, 25, 89],\n",
    "    '과학': [98, 50, 88, 85, 95]\n",
    "    },\n",
    "    index=['홍길동', '김철수', '이영희' , '김민지', '조윤정']\n",
    ")\n",
    "\n",
    "print(df)\n",
    "print()\n",
    "\n",
    "# 행은 이영희에서 김민지 행까지, 열은 영어에서 수학까지 가져오기\n",
    "row = df.loc['이영희':'김민지' , '영어':'수학']\n",
    "row"
   ]
  },
  {
   "cell_type": "markdown",
   "metadata": {},
   "source": [
    "### loc 예제 9 - 특정 범위의 행, 특정 열 가져오기"
   ]
  },
  {
   "cell_type": "code",
   "execution_count": 21,
   "metadata": {},
   "outputs": [
    {
     "name": "stdout",
     "output_type": "stream",
     "text": [
      "     국어  영어  수학  과학\n",
      "홍길동  95  87  85  98\n",
      "김철수  98  55  98  50\n",
      "이영희  98  96  88  88\n",
      "김민지  85  89  25  85\n",
      "조윤정  65  92  89  95\n",
      "\n"
     ]
    },
    {
     "data": {
      "text/html": [
       "<div>\n",
       "<style scoped>\n",
       "    .dataframe tbody tr th:only-of-type {\n",
       "        vertical-align: middle;\n",
       "    }\n",
       "\n",
       "    .dataframe tbody tr th {\n",
       "        vertical-align: top;\n",
       "    }\n",
       "\n",
       "    .dataframe thead th {\n",
       "        text-align: right;\n",
       "    }\n",
       "</style>\n",
       "<table border=\"1\" class=\"dataframe\">\n",
       "  <thead>\n",
       "    <tr style=\"text-align: right;\">\n",
       "      <th></th>\n",
       "      <th>국어</th>\n",
       "      <th>영어</th>\n",
       "    </tr>\n",
       "  </thead>\n",
       "  <tbody>\n",
       "    <tr>\n",
       "      <th>홍길동</th>\n",
       "      <td>95</td>\n",
       "      <td>87</td>\n",
       "    </tr>\n",
       "    <tr>\n",
       "      <th>김철수</th>\n",
       "      <td>98</td>\n",
       "      <td>55</td>\n",
       "    </tr>\n",
       "    <tr>\n",
       "      <th>이영희</th>\n",
       "      <td>98</td>\n",
       "      <td>96</td>\n",
       "    </tr>\n",
       "    <tr>\n",
       "      <th>김민지</th>\n",
       "      <td>85</td>\n",
       "      <td>89</td>\n",
       "    </tr>\n",
       "  </tbody>\n",
       "</table>\n",
       "</div>"
      ],
      "text/plain": [
       "     국어  영어\n",
       "홍길동  95  87\n",
       "김철수  98  55\n",
       "이영희  98  96\n",
       "김민지  85  89"
      ]
     },
     "execution_count": 21,
     "metadata": {},
     "output_type": "execute_result"
    }
   ],
   "source": [
    "import pandas as pd\n",
    "\n",
    "df = pd.DataFrame(\n",
    "    {\n",
    "\t\t'국어': [95, 98, 98, 85, 65],\n",
    "\t\t'영어': [87, 55, 96, 89, 92],\n",
    "\t\t'수학': [85, 98, 88, 25, 89],\n",
    "\t\t'과학': [98, 50, 88, 85, 95]\n",
    "    },\n",
    "    index=['홍길동', '김철수', '이영희' , '김민지', '조윤정']\n",
    ")\n",
    "\n",
    "print(df)\n",
    "print()\n",
    "\n",
    "# 행은 홍길동에서 김민지행 까지, 열은 국어, 영어만 가져오기\n",
    "row = df.loc['홍길동':'김민지' , ['국어', '영어']]\n",
    "row"
   ]
  },
  {
   "cell_type": "markdown",
   "metadata": {},
   "source": [
    "### loc 예제 - 10 특정 행, 원하는 범위의 열 가져오기"
   ]
  },
  {
   "cell_type": "code",
   "execution_count": 22,
   "metadata": {},
   "outputs": [
    {
     "name": "stdout",
     "output_type": "stream",
     "text": [
      "     국어  영어  수학  과학\n",
      "홍길동  95  87  85  98\n",
      "김철수  98  55  98  50\n",
      "이영희  98  96  88  88\n",
      "김민지  85  89  25  85\n",
      "조윤정  65  92  89  95\n",
      "\n"
     ]
    },
    {
     "data": {
      "text/html": [
       "<div>\n",
       "<style scoped>\n",
       "    .dataframe tbody tr th:only-of-type {\n",
       "        vertical-align: middle;\n",
       "    }\n",
       "\n",
       "    .dataframe tbody tr th {\n",
       "        vertical-align: top;\n",
       "    }\n",
       "\n",
       "    .dataframe thead th {\n",
       "        text-align: right;\n",
       "    }\n",
       "</style>\n",
       "<table border=\"1\" class=\"dataframe\">\n",
       "  <thead>\n",
       "    <tr style=\"text-align: right;\">\n",
       "      <th></th>\n",
       "      <th>국어</th>\n",
       "      <th>영어</th>\n",
       "      <th>수학</th>\n",
       "      <th>과학</th>\n",
       "    </tr>\n",
       "  </thead>\n",
       "  <tbody>\n",
       "    <tr>\n",
       "      <th>홍길동</th>\n",
       "      <td>95</td>\n",
       "      <td>87</td>\n",
       "      <td>85</td>\n",
       "      <td>98</td>\n",
       "    </tr>\n",
       "    <tr>\n",
       "      <th>이영희</th>\n",
       "      <td>98</td>\n",
       "      <td>96</td>\n",
       "      <td>88</td>\n",
       "      <td>88</td>\n",
       "    </tr>\n",
       "  </tbody>\n",
       "</table>\n",
       "</div>"
      ],
      "text/plain": [
       "     국어  영어  수학  과학\n",
       "홍길동  95  87  85  98\n",
       "이영희  98  96  88  88"
      ]
     },
     "execution_count": 22,
     "metadata": {},
     "output_type": "execute_result"
    }
   ],
   "source": [
    "import pandas as pd\n",
    "\n",
    "df = pd.DataFrame(\n",
    "    {\n",
    "\t\t'국어': [95, 98, 98, 85, 65],\n",
    "\t\t'영어': [87, 55, 96, 89, 92],\n",
    "\t\t'수학': [85, 98, 88, 25, 89],\n",
    "\t\t'과학': [98, 50, 88, 85, 95]\n",
    "    },\n",
    "    index=['홍길동', '김철수', '이영희' , '김민지', '조윤정']\n",
    ")\n",
    "\n",
    "print(df)\n",
    "print()\n",
    "\n",
    "# 행은 홍길동과 이영희 행만, 열 모든 열 가져오기\n",
    "# 행 인덱스 슬라이싱, 열 인덱스 슬라이싱\n",
    "row = df.loc[['홍길동', '이영희'] , :]\n",
    "row"
   ]
  },
  {
   "cell_type": "markdown",
   "metadata": {},
   "source": [
    "### loc 예제 11 - 특정 행, 특정 열 가져오기"
   ]
  },
  {
   "cell_type": "code",
   "execution_count": 23,
   "metadata": {},
   "outputs": [
    {
     "name": "stdout",
     "output_type": "stream",
     "text": [
      "     국어  영어  수학  과학\n",
      "홍길동  95  87  85  98\n",
      "김철수  98  55  98  50\n",
      "이영희  98  96  88  88\n",
      "김민지  85  89  25  85\n",
      "조윤정  65  92  89  95\n",
      "\n"
     ]
    },
    {
     "data": {
      "text/html": [
       "<div>\n",
       "<style scoped>\n",
       "    .dataframe tbody tr th:only-of-type {\n",
       "        vertical-align: middle;\n",
       "    }\n",
       "\n",
       "    .dataframe tbody tr th {\n",
       "        vertical-align: top;\n",
       "    }\n",
       "\n",
       "    .dataframe thead th {\n",
       "        text-align: right;\n",
       "    }\n",
       "</style>\n",
       "<table border=\"1\" class=\"dataframe\">\n",
       "  <thead>\n",
       "    <tr style=\"text-align: right;\">\n",
       "      <th></th>\n",
       "      <th>영어</th>\n",
       "      <th>수학</th>\n",
       "    </tr>\n",
       "  </thead>\n",
       "  <tbody>\n",
       "    <tr>\n",
       "      <th>홍길동</th>\n",
       "      <td>87</td>\n",
       "      <td>85</td>\n",
       "    </tr>\n",
       "    <tr>\n",
       "      <th>김민지</th>\n",
       "      <td>89</td>\n",
       "      <td>25</td>\n",
       "    </tr>\n",
       "  </tbody>\n",
       "</table>\n",
       "</div>"
      ],
      "text/plain": [
       "     영어  수학\n",
       "홍길동  87  85\n",
       "김민지  89  25"
      ]
     },
     "execution_count": 23,
     "metadata": {},
     "output_type": "execute_result"
    }
   ],
   "source": [
    "import pandas as pd\n",
    "\n",
    "df = pd.DataFrame(\n",
    "    {\n",
    "\t\t'국어': [95, 98, 98, 85, 65],\n",
    "\t\t'영어': [87, 55, 96, 89, 92],\n",
    "\t\t'수학': [85, 98, 88, 25, 89],\n",
    "\t\t'과학': [98, 50, 88, 85, 95]\n",
    "    },\n",
    "    index=['홍길동', '김철수', '이영희' , '김민지', '조윤정']\n",
    ")\n",
    "\n",
    "print(df)\n",
    "print()\n",
    "\n",
    "# 행은 홍길동과 김민지 행만, 열은 영어, 수학 열만 가져오기\n",
    "# 행 인덱스 슬라이싱, 열 인덱스 슬라이싱\n",
    "row = df.loc[['홍길동', '김민지'] , ['영어', '수학']]\n",
    "row"
   ]
  },
  {
   "cell_type": "markdown",
   "metadata": {},
   "source": [
    "### loc 예제 12 – 평균, 합계, 최대, 최소 "
   ]
  },
  {
   "cell_type": "code",
   "execution_count": 24,
   "metadata": {},
   "outputs": [
    {
     "name": "stdout",
     "output_type": "stream",
     "text": [
      "     국어  영어  수학  과학\n",
      "홍길동  95  87  85  98\n",
      "김철수  98  55  98  50\n",
      "이영희  98  96  88  88\n",
      "김민지  85  89  25  85\n",
      "조윤정  65  92  89  95\n",
      "국어    98\n",
      "영어    96\n",
      "수학    88\n",
      "과학    88\n",
      "Name: 이영희, dtype: int64\n",
      "370\n",
      "92.5\n",
      "98\n",
      "88\n"
     ]
    }
   ],
   "source": [
    "import pandas as pd\n",
    "\n",
    "df = pd.DataFrame(\n",
    "    {\n",
    "\t\t'국어': [95, 98, 98, 85, 65],\n",
    "\t\t'영어': [87, 55, 96, 89, 92],\n",
    "\t\t'수학': [85, 98, 88, 25, 89],\n",
    "\t\t'과학': [98, 50, 88, 85, 95]\n",
    "    },\n",
    "    index=['홍길동', '김철수', '이영희' , '김민지', '조윤정']\n",
    ")\n",
    "print(df)\n",
    "\n",
    "row = df.loc['이영희']\n",
    "print(row)\n",
    "\n",
    "print(row.sum())  # 합계\n",
    "print(row.mean()) # 평균\n",
    "print(row.max())  # 최대값\n",
    "print(row.min())  # 최소값"
   ]
  },
  {
   "cell_type": "markdown",
   "metadata": {},
   "source": [
    "## 2.3 iloc\n",
    "\n",
    "### iloc는 모든 것을 0부터 접근해서 처리합니다."
   ]
  },
  {
   "cell_type": "markdown",
   "metadata": {},
   "source": [
    "### iloc 예제 1 - 행 인덱스로 가져오기 "
   ]
  },
  {
   "cell_type": "code",
   "execution_count": 25,
   "metadata": {},
   "outputs": [
    {
     "name": "stdout",
     "output_type": "stream",
     "text": [
      "     국어  영어  수학  과학\n",
      "홍길동  95  87  85  98\n",
      "김철수  98  55  98  50\n",
      "이영희  98  96  88  88\n",
      "김민지  85  89  25  85\n",
      "조윤정  65  92  89  95\n",
      "\n"
     ]
    },
    {
     "data": {
      "text/plain": [
       "국어    95\n",
       "영어    87\n",
       "수학    85\n",
       "과학    98\n",
       "Name: 홍길동, dtype: int64"
      ]
     },
     "execution_count": 25,
     "metadata": {},
     "output_type": "execute_result"
    }
   ],
   "source": [
    "import pandas as pd\n",
    "\n",
    "df = pd.DataFrame(\n",
    "    {\n",
    "\t\t'국어': [95, 98, 98, 85, 65],\n",
    "\t\t'영어': [87, 55, 96, 89, 92],\n",
    "\t\t'수학': [85, 98, 88, 25, 89],\n",
    "\t\t'과학': [98, 50, 88, 85, 95]\n",
    "    },\n",
    "    index=['홍길동', '김철수', '이영희' , '김민지', '조윤정']\n",
    ")\n",
    "\n",
    "print(df)\n",
    "print()\n",
    "\n",
    "# 행 인덱스로 데이터 가져오기\n",
    "# 행 인덱스 0번 홍길동\n",
    "row = df.iloc[0]\n",
    "row"
   ]
  },
  {
   "cell_type": "markdown",
   "metadata": {},
   "source": [
    "### iloc 예제 2 – 행 인덱스, 열 인덱스 위치를 지정해서 값 가져오기"
   ]
  },
  {
   "cell_type": "code",
   "execution_count": 26,
   "metadata": {},
   "outputs": [
    {
     "name": "stdout",
     "output_type": "stream",
     "text": [
      "     국어  영어  수학  과학\n",
      "홍길동  95  87  85  98\n",
      "김철수  98  55  98  50\n",
      "이영희  98  96  88  88\n",
      "김민지  85  89  25  85\n",
      "조윤정  65  92  89  95\n",
      "\n",
      "87\n"
     ]
    }
   ],
   "source": [
    "import pandas as pd\n",
    "\n",
    "df = pd.DataFrame(\n",
    "    {\n",
    "\t\t'국어': [95, 98, 98, 85, 65],\n",
    "\t\t'영어': [87, 55, 96, 89, 92],\n",
    "\t\t'수학': [85, 98, 88, 25, 89],\n",
    "\t\t'과학': [98, 50, 88, 85, 95]\n",
    "    },\n",
    "    index=['홍길동', '김철수', '이영희' , '김민지', '조윤정']\n",
    ")\n",
    "\n",
    "print(df)\n",
    "print()\n",
    "\n",
    "# 행 인덱스 0번, 열 인덱스 1번의 데이터 가져오기\n",
    "# 0행 1열의 값을 가져온다\n",
    "data = df.iloc[0, 1]\n",
    "print(data)"
   ]
  },
  {
   "cell_type": "markdown",
   "metadata": {},
   "source": [
    "### iloc 예제 3 - 행 인덱스에서 행 인덱스 까지"
   ]
  },
  {
   "cell_type": "code",
   "execution_count": 27,
   "metadata": {},
   "outputs": [
    {
     "name": "stdout",
     "output_type": "stream",
     "text": [
      "     국어  영어  수학  과학\n",
      "홍길동  95  87  85  98\n",
      "김철수  98  55  98  50\n",
      "이영희  98  96  88  88\n",
      "김민지  85  89  25  85\n",
      "조윤정  65  92  89  95\n",
      "\n"
     ]
    },
    {
     "data": {
      "text/html": [
       "<div>\n",
       "<style scoped>\n",
       "    .dataframe tbody tr th:only-of-type {\n",
       "        vertical-align: middle;\n",
       "    }\n",
       "\n",
       "    .dataframe tbody tr th {\n",
       "        vertical-align: top;\n",
       "    }\n",
       "\n",
       "    .dataframe thead th {\n",
       "        text-align: right;\n",
       "    }\n",
       "</style>\n",
       "<table border=\"1\" class=\"dataframe\">\n",
       "  <thead>\n",
       "    <tr style=\"text-align: right;\">\n",
       "      <th></th>\n",
       "      <th>국어</th>\n",
       "      <th>영어</th>\n",
       "      <th>수학</th>\n",
       "      <th>과학</th>\n",
       "    </tr>\n",
       "  </thead>\n",
       "  <tbody>\n",
       "    <tr>\n",
       "      <th>홍길동</th>\n",
       "      <td>95</td>\n",
       "      <td>87</td>\n",
       "      <td>85</td>\n",
       "      <td>98</td>\n",
       "    </tr>\n",
       "    <tr>\n",
       "      <th>김철수</th>\n",
       "      <td>98</td>\n",
       "      <td>55</td>\n",
       "      <td>98</td>\n",
       "      <td>50</td>\n",
       "    </tr>\n",
       "  </tbody>\n",
       "</table>\n",
       "</div>"
      ],
      "text/plain": [
       "     국어  영어  수학  과학\n",
       "홍길동  95  87  85  98\n",
       "김철수  98  55  98  50"
      ]
     },
     "execution_count": 27,
     "metadata": {},
     "output_type": "execute_result"
    }
   ],
   "source": [
    "import pandas as pd\n",
    "\n",
    "df = pd.DataFrame(\n",
    "    {\n",
    "\t\t'국어': [95, 98, 98, 85, 65],\n",
    "\t\t'영어': [87, 55, 96, 89, 92],\n",
    "\t\t'수학': [85, 98, 88, 25, 89],\n",
    "\t\t'과학': [98, 50, 88, 85, 95]\n",
    "    },\n",
    "    index=['홍길동', '김철수', '이영희' , '김민지', '조윤정']\n",
    ")\n",
    "\n",
    "print(df)\n",
    "print()\n",
    "\n",
    "# 행 인덱스 0에서 행 인덱스(2-1)까지 가져오기\n",
    "data = df.iloc[0:2]\n",
    "data"
   ]
  },
  {
   "cell_type": "markdown",
   "metadata": {},
   "source": [
    "### iloc 예제 4 - 특정 행 인덱스만 골라서 가져오기"
   ]
  },
  {
   "cell_type": "code",
   "execution_count": 28,
   "metadata": {},
   "outputs": [
    {
     "name": "stdout",
     "output_type": "stream",
     "text": [
      "     국어  영어  수학  과학\n",
      "홍길동  95  87  85  98\n",
      "김철수  98  55  98  50\n",
      "이영희  98  96  88  88\n",
      "김민지  85  89  25  85\n",
      "조윤정  65  92  89  95\n",
      "\n"
     ]
    },
    {
     "data": {
      "text/html": [
       "<div>\n",
       "<style scoped>\n",
       "    .dataframe tbody tr th:only-of-type {\n",
       "        vertical-align: middle;\n",
       "    }\n",
       "\n",
       "    .dataframe tbody tr th {\n",
       "        vertical-align: top;\n",
       "    }\n",
       "\n",
       "    .dataframe thead th {\n",
       "        text-align: right;\n",
       "    }\n",
       "</style>\n",
       "<table border=\"1\" class=\"dataframe\">\n",
       "  <thead>\n",
       "    <tr style=\"text-align: right;\">\n",
       "      <th></th>\n",
       "      <th>국어</th>\n",
       "      <th>영어</th>\n",
       "      <th>수학</th>\n",
       "      <th>과학</th>\n",
       "    </tr>\n",
       "  </thead>\n",
       "  <tbody>\n",
       "    <tr>\n",
       "      <th>홍길동</th>\n",
       "      <td>95</td>\n",
       "      <td>87</td>\n",
       "      <td>85</td>\n",
       "      <td>98</td>\n",
       "    </tr>\n",
       "    <tr>\n",
       "      <th>이영희</th>\n",
       "      <td>98</td>\n",
       "      <td>96</td>\n",
       "      <td>88</td>\n",
       "      <td>88</td>\n",
       "    </tr>\n",
       "  </tbody>\n",
       "</table>\n",
       "</div>"
      ],
      "text/plain": [
       "     국어  영어  수학  과학\n",
       "홍길동  95  87  85  98\n",
       "이영희  98  96  88  88"
      ]
     },
     "execution_count": 28,
     "metadata": {},
     "output_type": "execute_result"
    }
   ],
   "source": [
    "import pandas as pd\n",
    "\n",
    "df = pd.DataFrame(\n",
    "    {\n",
    "\t\t'국어': [95, 98, 98, 85, 65],\n",
    "\t\t'영어': [87, 55, 96, 89, 92],\n",
    "\t\t'수학': [85, 98, 88, 25, 89],\n",
    "\t\t'과학': [98, 50, 88, 85, 95]\n",
    "    },\n",
    "    index=['홍길동', '김철수', '이영희' , '김민지', '조윤정']\n",
    ")\n",
    "\n",
    "print(df)\n",
    "print()\n",
    "\n",
    "# 행 인덱스 0번과, 행 인덱스 2번을 가져온다\n",
    "data = df.iloc[[0, 2]]\n",
    "data"
   ]
  },
  {
   "cell_type": "markdown",
   "metadata": {},
   "source": [
    "### iloc 예제 5 - 모든 행, 모든 열"
   ]
  },
  {
   "cell_type": "code",
   "execution_count": 29,
   "metadata": {},
   "outputs": [
    {
     "name": "stdout",
     "output_type": "stream",
     "text": [
      "     국어  영어  수학  과학\n",
      "홍길동  95  87  85  98\n",
      "김철수  98  55  98  50\n",
      "이영희  98  96  88  88\n",
      "김민지  85  89  25  85\n",
      "조윤정  65  92  89  95\n",
      "\n"
     ]
    },
    {
     "data": {
      "text/html": [
       "<div>\n",
       "<style scoped>\n",
       "    .dataframe tbody tr th:only-of-type {\n",
       "        vertical-align: middle;\n",
       "    }\n",
       "\n",
       "    .dataframe tbody tr th {\n",
       "        vertical-align: top;\n",
       "    }\n",
       "\n",
       "    .dataframe thead th {\n",
       "        text-align: right;\n",
       "    }\n",
       "</style>\n",
       "<table border=\"1\" class=\"dataframe\">\n",
       "  <thead>\n",
       "    <tr style=\"text-align: right;\">\n",
       "      <th></th>\n",
       "      <th>국어</th>\n",
       "      <th>영어</th>\n",
       "      <th>수학</th>\n",
       "      <th>과학</th>\n",
       "    </tr>\n",
       "  </thead>\n",
       "  <tbody>\n",
       "    <tr>\n",
       "      <th>홍길동</th>\n",
       "      <td>95</td>\n",
       "      <td>87</td>\n",
       "      <td>85</td>\n",
       "      <td>98</td>\n",
       "    </tr>\n",
       "    <tr>\n",
       "      <th>김철수</th>\n",
       "      <td>98</td>\n",
       "      <td>55</td>\n",
       "      <td>98</td>\n",
       "      <td>50</td>\n",
       "    </tr>\n",
       "    <tr>\n",
       "      <th>이영희</th>\n",
       "      <td>98</td>\n",
       "      <td>96</td>\n",
       "      <td>88</td>\n",
       "      <td>88</td>\n",
       "    </tr>\n",
       "    <tr>\n",
       "      <th>김민지</th>\n",
       "      <td>85</td>\n",
       "      <td>89</td>\n",
       "      <td>25</td>\n",
       "      <td>85</td>\n",
       "    </tr>\n",
       "    <tr>\n",
       "      <th>조윤정</th>\n",
       "      <td>65</td>\n",
       "      <td>92</td>\n",
       "      <td>89</td>\n",
       "      <td>95</td>\n",
       "    </tr>\n",
       "  </tbody>\n",
       "</table>\n",
       "</div>"
      ],
      "text/plain": [
       "     국어  영어  수학  과학\n",
       "홍길동  95  87  85  98\n",
       "김철수  98  55  98  50\n",
       "이영희  98  96  88  88\n",
       "김민지  85  89  25  85\n",
       "조윤정  65  92  89  95"
      ]
     },
     "execution_count": 29,
     "metadata": {},
     "output_type": "execute_result"
    }
   ],
   "source": [
    "import pandas as pd\n",
    "\n",
    "df = pd.DataFrame(\n",
    "    {\n",
    "\t\t'국어': [95, 98, 98, 85, 65],\n",
    "\t\t'영어': [87, 55, 96, 89, 92],\n",
    "\t\t'수학': [85, 98, 88, 25, 89],\n",
    "\t\t'과학': [98, 50, 88, 85, 95]\n",
    "    },\n",
    "    index=['홍길동', '김철수', '이영희' , '김민지', '조윤정']\n",
    ")\n",
    "\n",
    "print(df)\n",
    "print()\n",
    "\n",
    "# 모든 행, 모든 열 (처음부터 끝까지)\n",
    "data = df.iloc[:, :]\n",
    "data"
   ]
  },
  {
   "cell_type": "markdown",
   "metadata": {},
   "source": [
    "### iloc 예제 6 모든 행, 특정 범위의 열"
   ]
  },
  {
   "cell_type": "code",
   "execution_count": 35,
   "metadata": {},
   "outputs": [
    {
     "name": "stdout",
     "output_type": "stream",
     "text": [
      "     국어  영어  수학  과학\n",
      "홍길동  95  87  85  98\n",
      "김철수  98  55  98  50\n",
      "이영희  98  96  88  88\n",
      "김민지  85  89  25  85\n",
      "조윤정  65  92  89  95\n",
      "\n"
     ]
    },
    {
     "data": {
      "text/html": [
       "<div>\n",
       "<style scoped>\n",
       "    .dataframe tbody tr th:only-of-type {\n",
       "        vertical-align: middle;\n",
       "    }\n",
       "\n",
       "    .dataframe tbody tr th {\n",
       "        vertical-align: top;\n",
       "    }\n",
       "\n",
       "    .dataframe thead th {\n",
       "        text-align: right;\n",
       "    }\n",
       "</style>\n",
       "<table border=\"1\" class=\"dataframe\">\n",
       "  <thead>\n",
       "    <tr style=\"text-align: right;\">\n",
       "      <th></th>\n",
       "      <th>국어</th>\n",
       "      <th>영어</th>\n",
       "      <th>수학</th>\n",
       "    </tr>\n",
       "  </thead>\n",
       "  <tbody>\n",
       "    <tr>\n",
       "      <th>홍길동</th>\n",
       "      <td>95</td>\n",
       "      <td>87</td>\n",
       "      <td>85</td>\n",
       "    </tr>\n",
       "    <tr>\n",
       "      <th>김철수</th>\n",
       "      <td>98</td>\n",
       "      <td>55</td>\n",
       "      <td>98</td>\n",
       "    </tr>\n",
       "    <tr>\n",
       "      <th>이영희</th>\n",
       "      <td>98</td>\n",
       "      <td>96</td>\n",
       "      <td>88</td>\n",
       "    </tr>\n",
       "    <tr>\n",
       "      <th>김민지</th>\n",
       "      <td>85</td>\n",
       "      <td>89</td>\n",
       "      <td>25</td>\n",
       "    </tr>\n",
       "    <tr>\n",
       "      <th>조윤정</th>\n",
       "      <td>65</td>\n",
       "      <td>92</td>\n",
       "      <td>89</td>\n",
       "    </tr>\n",
       "  </tbody>\n",
       "</table>\n",
       "</div>"
      ],
      "text/plain": [
       "     국어  영어  수학\n",
       "홍길동  95  87  85\n",
       "김철수  98  55  98\n",
       "이영희  98  96  88\n",
       "김민지  85  89  25\n",
       "조윤정  65  92  89"
      ]
     },
     "execution_count": 35,
     "metadata": {},
     "output_type": "execute_result"
    }
   ],
   "source": [
    "import pandas as pd\n",
    "\n",
    "df = pd.DataFrame(\n",
    "    {\n",
    "\t\t'국어': [95, 98, 98, 85, 65],\n",
    "\t\t'영어': [87, 55, 96, 89, 92],\n",
    "\t\t'수학': [85, 98, 88, 25, 89],\n",
    "\t\t'과학': [98, 50, 88, 85, 95]\n",
    "    },\n",
    "    index=['홍길동', '김철수', '이영희' , '김민지', '조윤정']\n",
    ")\n",
    "\n",
    "print(df)\n",
    "print()\n",
    "\n",
    "# 모든 행, 특정 범위의 열\n",
    "# 행은 모든 행, 열은 0(국어)에서 3-1(수학)까지\n",
    "data = df.iloc[:, 0:3]\n",
    "data"
   ]
  },
  {
   "cell_type": "markdown",
   "metadata": {},
   "source": [
    "### iloc 예제 7 특정 범위의 행, 모든 범위의 열"
   ]
  },
  {
   "cell_type": "code",
   "execution_count": 36,
   "metadata": {},
   "outputs": [
    {
     "name": "stdout",
     "output_type": "stream",
     "text": [
      "     국어  영어  수학  과학\n",
      "홍길동  95  87  85  98\n",
      "김철수  98  55  98  50\n",
      "이영희  98  96  88  88\n",
      "김민지  85  89  25  85\n",
      "조윤정  65  92  89  95\n",
      "\n"
     ]
    },
    {
     "data": {
      "text/html": [
       "<div>\n",
       "<style scoped>\n",
       "    .dataframe tbody tr th:only-of-type {\n",
       "        vertical-align: middle;\n",
       "    }\n",
       "\n",
       "    .dataframe tbody tr th {\n",
       "        vertical-align: top;\n",
       "    }\n",
       "\n",
       "    .dataframe thead th {\n",
       "        text-align: right;\n",
       "    }\n",
       "</style>\n",
       "<table border=\"1\" class=\"dataframe\">\n",
       "  <thead>\n",
       "    <tr style=\"text-align: right;\">\n",
       "      <th></th>\n",
       "      <th>국어</th>\n",
       "      <th>영어</th>\n",
       "      <th>수학</th>\n",
       "      <th>과학</th>\n",
       "    </tr>\n",
       "  </thead>\n",
       "  <tbody>\n",
       "    <tr>\n",
       "      <th>홍길동</th>\n",
       "      <td>95</td>\n",
       "      <td>87</td>\n",
       "      <td>85</td>\n",
       "      <td>98</td>\n",
       "    </tr>\n",
       "    <tr>\n",
       "      <th>김철수</th>\n",
       "      <td>98</td>\n",
       "      <td>55</td>\n",
       "      <td>98</td>\n",
       "      <td>50</td>\n",
       "    </tr>\n",
       "  </tbody>\n",
       "</table>\n",
       "</div>"
      ],
      "text/plain": [
       "     국어  영어  수학  과학\n",
       "홍길동  95  87  85  98\n",
       "김철수  98  55  98  50"
      ]
     },
     "execution_count": 36,
     "metadata": {},
     "output_type": "execute_result"
    }
   ],
   "source": [
    "import pandas as pd\n",
    "\n",
    "df = pd.DataFrame(\n",
    "    {\n",
    "\t\t'국어': [95, 98, 98, 85, 65],\n",
    "\t\t'영어': [87, 55, 96, 89, 92],\n",
    "\t\t'수학': [85, 98, 88, 25, 89],\n",
    "\t\t'과학': [98, 50, 88, 85, 95]\n",
    "    },\n",
    "    index=['홍길동', '김철수', '이영희' , '김민지', '조윤정']\n",
    ")\n",
    "\n",
    "print(df)\n",
    "print()\n",
    "\n",
    "# 행은 0~2번(0,1), 열은 모든 열\n",
    "data = df.iloc[0:2, :]\n",
    "data"
   ]
  },
  {
   "cell_type": "markdown",
   "metadata": {},
   "source": [
    "### iloc 예제 8 - 특정 범위의 행, 특정 범위의 열"
   ]
  },
  {
   "cell_type": "code",
   "execution_count": 37,
   "metadata": {},
   "outputs": [
    {
     "name": "stdout",
     "output_type": "stream",
     "text": [
      "     국어  영어  수학  과학\n",
      "홍길동  95  87  85  98\n",
      "김철수  98  55  98  50\n",
      "이영희  98  96  88  88\n",
      "김민지  85  89  25  85\n",
      "조윤정  65  92  89  95\n",
      "\n"
     ]
    },
    {
     "data": {
      "text/html": [
       "<div>\n",
       "<style scoped>\n",
       "    .dataframe tbody tr th:only-of-type {\n",
       "        vertical-align: middle;\n",
       "    }\n",
       "\n",
       "    .dataframe tbody tr th {\n",
       "        vertical-align: top;\n",
       "    }\n",
       "\n",
       "    .dataframe thead th {\n",
       "        text-align: right;\n",
       "    }\n",
       "</style>\n",
       "<table border=\"1\" class=\"dataframe\">\n",
       "  <thead>\n",
       "    <tr style=\"text-align: right;\">\n",
       "      <th></th>\n",
       "      <th>국어</th>\n",
       "      <th>영어</th>\n",
       "    </tr>\n",
       "  </thead>\n",
       "  <tbody>\n",
       "    <tr>\n",
       "      <th>홍길동</th>\n",
       "      <td>95</td>\n",
       "      <td>87</td>\n",
       "    </tr>\n",
       "    <tr>\n",
       "      <th>김철수</th>\n",
       "      <td>98</td>\n",
       "      <td>55</td>\n",
       "    </tr>\n",
       "  </tbody>\n",
       "</table>\n",
       "</div>"
      ],
      "text/plain": [
       "     국어  영어\n",
       "홍길동  95  87\n",
       "김철수  98  55"
      ]
     },
     "execution_count": 37,
     "metadata": {},
     "output_type": "execute_result"
    }
   ],
   "source": [
    "import pandas as pd\n",
    "\n",
    "df = pd.DataFrame(\n",
    "    {\n",
    "    '국어': [95, 98, 98, 85, 65],\n",
    "    '영어': [87, 55, 96, 89, 92],\n",
    "    '수학': [85, 98, 88, 25, 89],\n",
    "    '과학': [98, 50, 88, 85, 95]\n",
    "    },\n",
    "    index=['홍길동', '김철수', '이영희' , '김민지', '조윤정']\n",
    ")\n",
    "\n",
    "print(df)\n",
    "print()\n",
    "\n",
    "# 특정 범위의 행(0~2번 사이), \n",
    "# 특정 범위의 열(0~2번 사이)\n",
    "# 행은 0~2번(0,1), 열은 0~2번(0,1)\n",
    "data = df.iloc[0:2, 0:2]\n",
    "data"
   ]
  },
  {
   "cell_type": "markdown",
   "metadata": {},
   "source": [
    "### iloc 예제 9 모든 범위의 행, 원하는 열 선택"
   ]
  },
  {
   "cell_type": "code",
   "execution_count": 39,
   "metadata": {},
   "outputs": [
    {
     "name": "stdout",
     "output_type": "stream",
     "text": [
      "     국어  영어  수학  과학\n",
      "홍길동  95  87  85  98\n",
      "김철수  98  55  98  50\n",
      "이영희  98  96  88  88\n",
      "김민지  85  89  25  85\n",
      "조윤정  65  92  89  95\n",
      "\n"
     ]
    },
    {
     "data": {
      "text/html": [
       "<div>\n",
       "<style scoped>\n",
       "    .dataframe tbody tr th:only-of-type {\n",
       "        vertical-align: middle;\n",
       "    }\n",
       "\n",
       "    .dataframe tbody tr th {\n",
       "        vertical-align: top;\n",
       "    }\n",
       "\n",
       "    .dataframe thead th {\n",
       "        text-align: right;\n",
       "    }\n",
       "</style>\n",
       "<table border=\"1\" class=\"dataframe\">\n",
       "  <thead>\n",
       "    <tr style=\"text-align: right;\">\n",
       "      <th></th>\n",
       "      <th>국어</th>\n",
       "      <th>수학</th>\n",
       "    </tr>\n",
       "  </thead>\n",
       "  <tbody>\n",
       "    <tr>\n",
       "      <th>홍길동</th>\n",
       "      <td>95</td>\n",
       "      <td>85</td>\n",
       "    </tr>\n",
       "    <tr>\n",
       "      <th>김철수</th>\n",
       "      <td>98</td>\n",
       "      <td>98</td>\n",
       "    </tr>\n",
       "    <tr>\n",
       "      <th>이영희</th>\n",
       "      <td>98</td>\n",
       "      <td>88</td>\n",
       "    </tr>\n",
       "    <tr>\n",
       "      <th>김민지</th>\n",
       "      <td>85</td>\n",
       "      <td>25</td>\n",
       "    </tr>\n",
       "    <tr>\n",
       "      <th>조윤정</th>\n",
       "      <td>65</td>\n",
       "      <td>89</td>\n",
       "    </tr>\n",
       "  </tbody>\n",
       "</table>\n",
       "</div>"
      ],
      "text/plain": [
       "     국어  수학\n",
       "홍길동  95  85\n",
       "김철수  98  98\n",
       "이영희  98  88\n",
       "김민지  85  25\n",
       "조윤정  65  89"
      ]
     },
     "execution_count": 39,
     "metadata": {},
     "output_type": "execute_result"
    }
   ],
   "source": [
    "import pandas as pd\n",
    "\n",
    "df = pd.DataFrame(\n",
    "    {\n",
    "\t\t'국어': [95, 98, 98, 85, 65],\n",
    "\t\t'영어': [87, 55, 96, 89, 92],\n",
    "\t\t'수학': [85, 98, 88, 25, 89],\n",
    "\t\t'과학': [98, 50, 88, 85, 95]\n",
    "    },\n",
    "    index=['홍길동', '김철수', '이영희' , '김민지', '조윤정']\n",
    ")\n",
    "\n",
    "print(df)\n",
    "print()\n",
    "\n",
    "# 모든 범위의 행, 특정 열(0, 2)\n",
    "data = df.iloc[:, [0,2]]\n",
    "data"
   ]
  },
  {
   "cell_type": "markdown",
   "metadata": {},
   "source": [
    "### iloc 예제 10 특정 행, 모든 범위의 열"
   ]
  },
  {
   "cell_type": "code",
   "execution_count": 40,
   "metadata": {},
   "outputs": [
    {
     "name": "stdout",
     "output_type": "stream",
     "text": [
      "     국어  영어  수학  과학\n",
      "홍길동  95  87  85  98\n",
      "김철수  98  55  98  50\n",
      "이영희  98  96  88  88\n",
      "김민지  85  89  25  85\n",
      "조윤정  65  92  89  95\n",
      "\n"
     ]
    },
    {
     "data": {
      "text/html": [
       "<div>\n",
       "<style scoped>\n",
       "    .dataframe tbody tr th:only-of-type {\n",
       "        vertical-align: middle;\n",
       "    }\n",
       "\n",
       "    .dataframe tbody tr th {\n",
       "        vertical-align: top;\n",
       "    }\n",
       "\n",
       "    .dataframe thead th {\n",
       "        text-align: right;\n",
       "    }\n",
       "</style>\n",
       "<table border=\"1\" class=\"dataframe\">\n",
       "  <thead>\n",
       "    <tr style=\"text-align: right;\">\n",
       "      <th></th>\n",
       "      <th>국어</th>\n",
       "      <th>영어</th>\n",
       "      <th>수학</th>\n",
       "      <th>과학</th>\n",
       "    </tr>\n",
       "  </thead>\n",
       "  <tbody>\n",
       "    <tr>\n",
       "      <th>홍길동</th>\n",
       "      <td>95</td>\n",
       "      <td>87</td>\n",
       "      <td>85</td>\n",
       "      <td>98</td>\n",
       "    </tr>\n",
       "    <tr>\n",
       "      <th>김철수</th>\n",
       "      <td>98</td>\n",
       "      <td>55</td>\n",
       "      <td>98</td>\n",
       "      <td>50</td>\n",
       "    </tr>\n",
       "  </tbody>\n",
       "</table>\n",
       "</div>"
      ],
      "text/plain": [
       "     국어  영어  수학  과학\n",
       "홍길동  95  87  85  98\n",
       "김철수  98  55  98  50"
      ]
     },
     "execution_count": 40,
     "metadata": {},
     "output_type": "execute_result"
    }
   ],
   "source": [
    "import pandas as pd\n",
    "\n",
    "df = pd.DataFrame(\n",
    "    {\n",
    "\t\t'국어': [95, 98, 98, 85, 65],\n",
    "\t\t'영어': [87, 55, 96, 89, 92],\n",
    "\t\t'수학': [85, 98, 88, 25, 89],\n",
    "\t\t'과학': [98, 50, 88, 85, 95]\n",
    "    },\n",
    "    index=['홍길동', '김철수', '이영희' , '김민지', '조윤정']\n",
    ")\n",
    "\n",
    "print(df)\n",
    "print()\n",
    "\n",
    "# 특정 행(0, 1), 모든 열\n",
    "data = df.iloc[[0,1], :]\n",
    "data"
   ]
  },
  {
   "cell_type": "markdown",
   "metadata": {},
   "source": [
    "### iloc 예제 11 특정 행, 특정 열"
   ]
  },
  {
   "cell_type": "code",
   "execution_count": 50,
   "metadata": {},
   "outputs": [
    {
     "name": "stdout",
     "output_type": "stream",
     "text": [
      "     국어  영어  수학  과학\n",
      "홍길동  95  87  85  98\n",
      "김철수  98  55  98  50\n",
      "이영희  98  96  88  88\n",
      "김민지  85  89  25  85\n",
      "조윤정  65  92  89  95\n",
      "\n"
     ]
    },
    {
     "data": {
      "text/html": [
       "<div>\n",
       "<style scoped>\n",
       "    .dataframe tbody tr th:only-of-type {\n",
       "        vertical-align: middle;\n",
       "    }\n",
       "\n",
       "    .dataframe tbody tr th {\n",
       "        vertical-align: top;\n",
       "    }\n",
       "\n",
       "    .dataframe thead th {\n",
       "        text-align: right;\n",
       "    }\n",
       "</style>\n",
       "<table border=\"1\" class=\"dataframe\">\n",
       "  <thead>\n",
       "    <tr style=\"text-align: right;\">\n",
       "      <th></th>\n",
       "      <th>국어</th>\n",
       "      <th>수학</th>\n",
       "    </tr>\n",
       "  </thead>\n",
       "  <tbody>\n",
       "    <tr>\n",
       "      <th>홍길동</th>\n",
       "      <td>95</td>\n",
       "      <td>85</td>\n",
       "    </tr>\n",
       "    <tr>\n",
       "      <th>이영희</th>\n",
       "      <td>98</td>\n",
       "      <td>88</td>\n",
       "    </tr>\n",
       "  </tbody>\n",
       "</table>\n",
       "</div>"
      ],
      "text/plain": [
       "     국어  수학\n",
       "홍길동  95  85\n",
       "이영희  98  88"
      ]
     },
     "execution_count": 50,
     "metadata": {},
     "output_type": "execute_result"
    }
   ],
   "source": [
    "import pandas as pd\n",
    "\n",
    "df = pd.DataFrame(\n",
    "    {\n",
    "\t\t'국어': [95, 98, 98, 85, 65],\n",
    "\t\t'영어': [87, 55, 96, 89, 92],\n",
    "\t\t'수학': [85, 98, 88, 25, 89],\n",
    "\t\t'과학': [98, 50, 88, 85, 95]\n",
    "    },\n",
    "    index=['홍길동', '김철수', '이영희' , '김민지', '조윤정']\n",
    ")\n",
    "\n",
    "print(df)\n",
    "print()\n",
    "\n",
    "# 특정 행(0, 2), 특정 열(0, 2)\n",
    "data = df.iloc[[0, 2], [0, 2]]\n",
    "data"
   ]
  }
 ],
 "metadata": {
  "kernelspec": {
   "display_name": "venv",
   "language": "python",
   "name": "python3"
  },
  "language_info": {
   "codemirror_mode": {
    "name": "ipython",
    "version": 3
   },
   "file_extension": ".py",
   "mimetype": "text/x-python",
   "name": "python",
   "nbconvert_exporter": "python",
   "pygments_lexer": "ipython3",
   "version": "3.9.6"
  }
 },
 "nbformat": 4,
 "nbformat_minor": 2
}
